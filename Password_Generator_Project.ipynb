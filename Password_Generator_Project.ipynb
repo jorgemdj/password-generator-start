{
  "nbformat": 4,
  "nbformat_minor": 0,
  "metadata": {
    "colab": {
      "provenance": [],
      "authorship_tag": "ABX9TyNNEhxlxZXzxj2zKJW+d+bq",
      "include_colab_link": true
    },
    "kernelspec": {
      "name": "python3",
      "display_name": "Python 3"
    },
    "language_info": {
      "name": "python"
    }
  },
  "cells": [
    {
      "cell_type": "markdown",
      "metadata": {
        "id": "view-in-github",
        "colab_type": "text"
      },
      "source": [
        "<a href=\"https://colab.research.google.com/github/jorgemdj/password-generator-start/blob/main/Password_Generator_Project.ipynb\" target=\"_parent\"><img src=\"https://colab.research.google.com/assets/colab-badge.svg\" alt=\"Open In Colab\"/></a>"
      ]
    },
    {
      "cell_type": "code",
      "execution_count": 1,
      "metadata": {
        "colab": {
          "base_uri": "https://localhost:8080/"
        },
        "id": "D_DFBGSaA8hP",
        "outputId": "06ab334c-73ed-455e-f38d-acd2b7651fba"
      },
      "outputs": [
        {
          "output_type": "stream",
          "name": "stdout",
          "text": [
            "Welcome to the PyPassword Generator!\n",
            "How many letters would you like in your password?\n",
            "4\n",
            "How many symbols would you like?\n",
            "2\n",
            "How many numbers would you like?\n",
            "2\n",
            "t8QI&)6I\n"
          ]
        }
      ],
      "source": [
        "#Password Generator Project\n",
        "import random\n",
        "letters = ['a', 'b', 'c', 'd', 'e', 'f', 'g', 'h', 'i', 'j', 'k', 'l', 'm', 'n', 'o', 'p', 'q', 'r', 's', 't', 'u', 'v', 'w', 'x', 'y', 'z', 'A', 'B', 'C', 'D', 'E', 'F', 'G', 'H', 'I', 'J', 'K', 'L', 'M', 'N', 'O', 'P', 'Q', 'R', 'S', 'T', 'U', 'V', 'W', 'X', 'Y', 'Z']\n",
        "numbers = ['0', '1', '2', '3', '4', '5', '6', '7', '8', '9']\n",
        "symbols = ['!', '#', '$', '%', '&', '(', ')', '*', '+']\n",
        "\n",
        "print(\"Welcome to the PyPassword Generator!\")\n",
        "nr_letters= int(input(\"How many letters would you like in your password?\\n\"))\n",
        "nr_symbols = int(input(f\"How many symbols would you like?\\n\"))\n",
        "nr_numbers = int(input(f\"How many numbers would you like?\\n\"))\n",
        "\n",
        "# #Eazy Level - Order not randomised:\n",
        "# #e.g. 4 letter, 2 symbol, 2 number = JduE&!91\n",
        "\n",
        "\n",
        "# #Hard Level - Order of characters randomised:\n",
        "# #e.g. 4 letter, 2 symbol, 2 number = g^2jk8&P\n",
        "\n",
        "\n",
        "char = []\n",
        "for i in range(0, nr_letters):\n",
        "  l = random.randrange(len(letters))\n",
        "  char.append(letters[l])\n",
        "\n",
        "for i in range(0, nr_symbols):\n",
        "  s = random.randrange(len(symbols))\n",
        "  char.append(symbols[s])\n",
        "\n",
        "for i in range(0, nr_numbers):\n",
        "  n = random.randrange(len(numbers))\n",
        "  char.append(numbers[n])\n",
        "\n",
        "random.shuffle(char)\n",
        "\n",
        "password = ''.join(char)\n",
        "\n",
        "print(password)"
      ]
    }
  ]
}